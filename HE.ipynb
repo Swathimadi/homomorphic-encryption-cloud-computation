{
  "nbformat": 4,
  "nbformat_minor": 0,
  "metadata": {
    "colab": {
      "provenance": []
    },
    "kernelspec": {
      "name": "python3",
      "display_name": "Python 3"
    },
    "language_info": {
      "name": "python"
    }
  },
  "cells": [
    {
      "cell_type": "code",
      "execution_count": 6,
      "metadata": {
        "colab": {
          "base_uri": "https://localhost:8080/"
        },
        "id": "EqFDnSl32wki",
        "outputId": "f4fc59e5-dc03-42f0-8f0f-f8d177ff30f3"
      },
      "outputs": [
        {
          "output_type": "stream",
          "name": "stdout",
          "text": [
            "Collecting tenseal\n",
            "  Downloading tenseal-0.3.16-cp311-cp311-manylinux_2_27_x86_64.manylinux_2_28_x86_64.whl.metadata (8.4 kB)\n",
            "Downloading tenseal-0.3.16-cp311-cp311-manylinux_2_27_x86_64.manylinux_2_28_x86_64.whl (4.8 MB)\n",
            "\u001b[2K   \u001b[90m━━━━━━━━━━━━━━━━━━━━━━━━━━━━━━━━━━━━━━━━\u001b[0m \u001b[32m4.8/4.8 MB\u001b[0m \u001b[31m32.8 MB/s\u001b[0m eta \u001b[36m0:00:00\u001b[0m\n",
            "\u001b[?25hInstalling collected packages: tenseal\n",
            "Successfully installed tenseal-0.3.16\n"
          ]
        }
      ],
      "source": [
        "!pip install tenseal"
      ]
    },
    {
      "cell_type": "code",
      "source": [
        "import tenseal as ts\n",
        "from typing import List"
      ],
      "metadata": {
        "id": "KkGFcEwh8JKx"
      },
      "execution_count": 10,
      "outputs": []
    },
    {
      "cell_type": "code",
      "source": [
        "class HEClient:\n",
        "    def __init__(self):\n",
        "        # Setup context\n",
        "        self.context = ts.context(\n",
        "            ts.SCHEME_TYPE.BFV,\n",
        "            poly_modulus_degree=8192,\n",
        "            plain_modulus=1032193\n",
        "        )\n",
        "        self.context.generate_galois_keys()\n",
        "        self.context.generate_relin_keys()\n",
        "\n",
        "        # Keep reference to secret key\n",
        "        self.secret_key = self.context.secret_key()\n",
        "\n",
        "        # Create a public-only context for the cloud\n",
        "        self.public_context = self.context.copy()\n",
        "        self.public_context.make_context_public()\n",
        "\n",
        "    def get_public_context(self) -> ts.Context:\n",
        "        return self.public_context\n",
        "\n",
        "    def encrypt_data(self, data: List[int]) -> ts.BFVVector:\n",
        "        return ts.bfv_vector(self.context, data)\n",
        "\n",
        "    def decrypt_value(self, encrypted_value: ts.BFVVector) -> float:\n",
        "        return encrypted_value.decrypt(self.secret_key)[0]\n",
        "\n",
        "\n",
        "class EncryptedCloudService:\n",
        "    def __init__(self, cloud_context: ts.Context):\n",
        "        self.context = cloud_context\n",
        "\n",
        "    def compute_sum(self, encrypted_vector: ts.BFVVector) -> ts.BFVVector:\n",
        "        return encrypted_vector.sum()\n",
        "\n",
        "    def compute_average_decrypted(self, encrypted_vector: ts.BFVVector, count: int, client: HEClient) -> float:\n",
        "        enc_sum = encrypted_vector.sum()\n",
        "        total = client.decrypt_value(enc_sum)\n",
        "        return total / count"
      ],
      "metadata": {
        "id": "HYw39AvH9-H5"
      },
      "execution_count": 22,
      "outputs": []
    },
    {
      "cell_type": "code",
      "source": [
        "# ---------------- MAIN FUNCTION ---------------- #\n",
        "\n",
        "def main():\n",
        "    client = HEClient()\n",
        "    cloud = EncryptedCloudService(client.get_public_context())\n",
        "\n",
        "    data = [45000, 52000, 61000, 70000, 80000]\n",
        "    print(f\"Original Data: {data}\")\n",
        "\n",
        "    encrypted_data = client.encrypt_data(data)\n",
        "\n",
        "    encrypted_sum = cloud.compute_sum(encrypted_data)\n",
        "    decrypted_sum = client.decrypt_value(encrypted_sum)\n",
        "\n",
        "    decrypted_avg = cloud.compute_average_decrypted(encrypted_data, len(data), client)\n",
        "\n",
        "    print(f\"Decrypted Sum: {decrypted_sum}\")\n",
        "    print(f\"Decrypted Average: {decrypted_avg:.2f}\")\n",
        "\n",
        "main()"
      ],
      "metadata": {
        "colab": {
          "base_uri": "https://localhost:8080/"
        },
        "id": "WwfsHy-99_uH",
        "outputId": "f6cf7735-4d5f-43d5-eebf-c3a21e26c92f"
      },
      "execution_count": 23,
      "outputs": [
        {
          "output_type": "stream",
          "name": "stdout",
          "text": [
            "Original Data: [45000, 52000, 61000, 70000, 80000]\n",
            "Decrypted Sum: 308000\n",
            "Decrypted Average: 61600.00\n"
          ]
        }
      ]
    }
  ]
}